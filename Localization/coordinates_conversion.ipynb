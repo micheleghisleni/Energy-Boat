{
 "cells": [
  {
   "cell_type": "code",
   "execution_count": null,
   "metadata": {},
   "outputs": [],
   "source": [
    "radius = 6371    #Earth Radius in KM\n",
    "\n",
    "class referencePoint:\n",
    "    def __init__(self, scrX, scrY, lat, lng):\n",
    "        self.scrX = scrX\n",
    "        self.scrY = scrY\n",
    "        self.lat = lat\n",
    "        self.lng = lng\n",
    "\n",
    "\n",
    "# Calculate global X and Y for top-left reference point        \n",
    "p0 = referencePoint(0, 0, 52.526470, 13.403215)\n",
    "# Calculate global X and Y for bottom-right reference point\n",
    "p1 = referencePoint(2244, 2060, 52.525035, 13.405809) \n",
    "\n",
    "\n",
    "# This function converts lat and lng coordinates to GLOBAL X and Y positions\n",
    "def latlngToGlobalXY(lat, lng):\n",
    "    # Calculates x based on cos of average of the latitudes\n",
    "    x = radius*lng*math.cos((p0.lat + p1.lat)/2)\n",
    "    # Calculates y based on latitude\n",
    "    y = radius*lat\n",
    "    return {'x': x, 'y': y}\n",
    "\n",
    "\n",
    "# This function converts lat and lng coordinates to SCREEN X and Y positions\n",
    "def latlngToScreenXY(lat, lng):\n",
    "    # Calculate global X and Y for projection point\n",
    "    pos = latlngToGlobalXY(lat, lng)\n",
    "    # Calculate the percentage of Global X position in relation to total global width\n",
    "    perX = ((pos['x']-p0.pos['x'])/(p1.pos['x'] - p0.pos['x']))\n",
    "    # Calculate the percentage of Global Y position in relation to total global height\n",
    "    perY = ((pos['y']-p0.pos['y'])/(p1.pos['y'] - p0.pos['y']))\n",
    "\n",
    "    # Returns the screen position based on reference points\n",
    "    return {\n",
    "        'x': p0.scrX + (p1.scrX - p0.scrX)*perX,\n",
    "        'y': p0.scrY + (p1.scrY - p0.scrY)*perY\n",
    "    }\n",
    "\n",
    "\n",
    "pos = latlngToScreenXY(52.525607, 13.404572);"
   ]
  }
 ],
 "metadata": {
  "kernelspec": {
   "display_name": "Python 3",
   "language": "python",
   "name": "python3"
  },
  "language_info": {
   "name": "python",
   "version": "3.9.2"
  },
  "orig_nbformat": 4,
  "vscode": {
   "interpreter": {
    "hash": "ba67b957603c6589b793cbc779fadd4d74491f4ed475d4948a7778f403f5ead2"
   }
  }
 },
 "nbformat": 4,
 "nbformat_minor": 2
}
